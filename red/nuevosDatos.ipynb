{
 "cells": [
  {
   "cell_type": "code",
   "execution_count": 1,
   "metadata": {},
   "outputs": [],
   "source": [
    "from joblib import load\n",
    "from tensorflow.keras.models import load_model\n",
    "import numpy as np\n",
    "import pandas as pd"
   ]
  },
  {
   "cell_type": "code",
   "execution_count": 2,
   "metadata": {},
   "outputs": [
    {
     "name": "stderr",
     "output_type": "stream",
     "text": [
      "WARNING:absl:Compiled the loaded model, but the compiled metrics have yet to be built. `model.compile_metrics` will be empty until you train or evaluate the model.\n"
     ]
    }
   ],
   "source": [
    "# Load the preprocessor and the model\n",
    "pipeline = load('pipeline.joblib')\n",
    "model = load_model('my_model.h5')"
   ]
  },
  {
   "cell_type": "code",
   "execution_count": 3,
   "metadata": {},
   "outputs": [],
   "source": [
    "feature_names = ['Elemento', 'Ecut', 'KPoints', 'Pseudopotencial']"
   ]
  },
  {
   "cell_type": "code",
   "execution_count": 4,
   "metadata": {},
   "outputs": [],
   "source": [
    "def get_user_input(feature_names):\n",
    "    print(\"Enter the feature values for prediction:\")\n",
    "    feature_values = {}\n",
    "    for feature in feature_names:\n",
    "        if feature == 'Ecut':\n",
    "            while True:  # Keep asking for the input until it can be converted to an int\n",
    "                value = input(f\"{feature} (should be an integer): \")\n",
    "                try:\n",
    "                    feature_values[feature] = [int(value)]  # Convert to int\n",
    "                    break  # Exit the loop if conversion was successful\n",
    "                except ValueError:\n",
    "                    print(\"The value entered is not an integer. Please try again.\")\n",
    "        else:\n",
    "            value = input(f\"{feature}: \")\n",
    "            feature_values[feature] = [value]\n",
    "    \n",
    "    input_df = pd.DataFrame.from_dict(feature_values)\n",
    "    return input_df\n"
   ]
  },
  {
   "cell_type": "code",
   "execution_count": 5,
   "metadata": {},
   "outputs": [],
   "source": [
    "def make_prediction(input_df):\n",
    "    # Preprocess the DataFrame using the loaded pipeline\n",
    "    input_transformed = pipeline.transform(input_df)\n",
    "\n",
    "    # Make prediction\n",
    "    prediction = model.predict(input_transformed)\n",
    "    return prediction"
   ]
  },
  {
   "cell_type": "code",
   "execution_count": 6,
   "metadata": {},
   "outputs": [
    {
     "name": "stdout",
     "output_type": "stream",
     "text": [
      "Enter the feature values for prediction:\n",
      "\u001b[1m1/1\u001b[0m \u001b[32m━━━━━━━━━━━━━━━━━━━━\u001b[0m\u001b[37m\u001b[0m \u001b[1m0s\u001b[0m 189ms/step\n",
      "The predicted total energy is: [-356.14655]\n"
     ]
    }
   ],
   "source": [
    "# Example of how to use these functions:\n",
    "user_input_df = get_user_input(feature_names)\n",
    "predicted_energy = make_prediction(user_input_df)\n",
    "print(f\"The predicted total energy is: {predicted_energy[0]}\")"
   ]
  },
  {
   "cell_type": "code",
   "execution_count": null,
   "metadata": {},
   "outputs": [],
   "source": []
  }
 ],
 "metadata": {
  "kernelspec": {
   "display_name": "Python 3",
   "language": "python",
   "name": "python3"
  },
  "language_info": {
   "codemirror_mode": {
    "name": "ipython",
    "version": 3
   },
   "file_extension": ".py",
   "mimetype": "text/x-python",
   "name": "python",
   "nbconvert_exporter": "python",
   "pygments_lexer": "ipython3",
   "version": "3.12.1"
  }
 },
 "nbformat": 4,
 "nbformat_minor": 2
}
