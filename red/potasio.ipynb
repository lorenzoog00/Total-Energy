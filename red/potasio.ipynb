{
 "cells": [
  {
   "cell_type": "code",
   "execution_count": 1,
   "metadata": {},
   "outputs": [],
   "source": [
    "import pandas as pd\n",
    "import os\n",
    "from sklearn.model_selection import train_test_split\n",
    "from sklearn.preprocessing import StandardScaler, OneHotEncoder\n",
    "from sklearn.compose import ColumnTransformer\n",
    "from joblib import dump\n",
    "from sklearn.pipeline import Pipeline\n",
    "import tensorflow as tf\n",
    "from sklearn.preprocessing import MinMaxScaler\n",
    "from tensorflow.keras.models import Sequential\n",
    "from tensorflow.keras.layers import Dense\n",
    "from sklearn.metrics import r2_score, mean_squared_error, mean_absolute_error\n",
    "import numpy as np\n",
    "import matplotlib.pyplot as plt"
   ]
  },
  {
   "cell_type": "markdown",
   "metadata": {},
   "source": [
    "Importando DF para limitarlo a cosas de niquel"
   ]
  },
  {
   "cell_type": "code",
   "execution_count": 2,
   "metadata": {},
   "outputs": [],
   "source": [
    "csv_path = 'cleanData.csv'\n",
    "df = pd.read_csv(csv_path)"
   ]
  },
  {
   "cell_type": "code",
   "execution_count": 3,
   "metadata": {},
   "outputs": [
    {
     "name": "stderr",
     "output_type": "stream",
     "text": [
      "C:\\Users\\USER\\AppData\\Local\\Temp\\ipykernel_32636\\984873699.py:5: SettingWithCopyWarning: \n",
      "A value is trying to be set on a copy of a slice from a DataFrame\n",
      "\n",
      "See the caveats in the documentation: https://pandas.pydata.org/pandas-docs/stable/user_guide/indexing.html#returning-a-view-versus-a-copy\n",
      "  cleanDF.drop(columns='Elemento', inplace=True)\n"
     ]
    }
   ],
   "source": [
    "# Filtrar el DataFrame para quedarse solo con las filas donde 'Elemento' es 'Ni'\n",
    "cleanDF = df[df['Elemento'] == 'Ni']\n",
    "\n",
    "# Eliminar la columna 'Elemento'\n",
    "cleanDF.drop(columns='Elemento', inplace=True)"
   ]
  },
  {
   "cell_type": "code",
   "execution_count": 4,
   "metadata": {},
   "outputs": [
    {
     "data": {
      "text/html": [
       "<div>\n",
       "<style scoped>\n",
       "    .dataframe tbody tr th:only-of-type {\n",
       "        vertical-align: middle;\n",
       "    }\n",
       "\n",
       "    .dataframe tbody tr th {\n",
       "        vertical-align: top;\n",
       "    }\n",
       "\n",
       "    .dataframe thead th {\n",
       "        text-align: right;\n",
       "    }\n",
       "</style>\n",
       "<table border=\"1\" class=\"dataframe\">\n",
       "  <thead>\n",
       "    <tr style=\"text-align: right;\">\n",
       "      <th></th>\n",
       "      <th>Ecut</th>\n",
       "      <th>KPoints</th>\n",
       "      <th>Pseudopotencial</th>\n",
       "      <th>Total Energy (Ry)</th>\n",
       "    </tr>\n",
       "  </thead>\n",
       "  <tbody>\n",
       "    <tr>\n",
       "      <th>4763</th>\n",
       "      <td>15</td>\n",
       "      <td>1 1 1</td>\n",
       "      <td>Ni.pbesol-spn-kjpaw_psl.1.0.0</td>\n",
       "      <td>-351.476648</td>\n",
       "    </tr>\n",
       "    <tr>\n",
       "      <th>4764</th>\n",
       "      <td>15</td>\n",
       "      <td>1 1 1</td>\n",
       "      <td>Ni.pbesol-spn-rrkjus_psl.1.0.0</td>\n",
       "      <td>-266.675448</td>\n",
       "    </tr>\n",
       "    <tr>\n",
       "      <th>4765</th>\n",
       "      <td>15</td>\n",
       "      <td>1 1 1</td>\n",
       "      <td>Ni.pbe-spn-kjpaw_psl.1.0.0</td>\n",
       "      <td>-353.742357</td>\n",
       "    </tr>\n",
       "    <tr>\n",
       "      <th>4766</th>\n",
       "      <td>15</td>\n",
       "      <td>1 1 1</td>\n",
       "      <td>Ni.pbe-spn-rrkjus_psl.1.0.0</td>\n",
       "      <td>-266.530727</td>\n",
       "    </tr>\n",
       "    <tr>\n",
       "      <th>4767</th>\n",
       "      <td>15</td>\n",
       "      <td>2 2 2</td>\n",
       "      <td>Ni.pbesol-spn-kjpaw_psl.1.0.0</td>\n",
       "      <td>-354.727505</td>\n",
       "    </tr>\n",
       "    <tr>\n",
       "      <th>...</th>\n",
       "      <td>...</td>\n",
       "      <td>...</td>\n",
       "      <td>...</td>\n",
       "      <td>...</td>\n",
       "    </tr>\n",
       "    <tr>\n",
       "      <th>5550</th>\n",
       "      <td>100</td>\n",
       "      <td>10 10 10</td>\n",
       "      <td>Ni.pbe-spn-rrkjus_psl.1.0.0</td>\n",
       "      <td>-339.605964</td>\n",
       "    </tr>\n",
       "    <tr>\n",
       "      <th>5551</th>\n",
       "      <td>100</td>\n",
       "      <td>11 11 11</td>\n",
       "      <td>Ni.pbesol-spn-kjpaw_psl.1.0.0</td>\n",
       "      <td>-426.577757</td>\n",
       "    </tr>\n",
       "    <tr>\n",
       "      <th>5552</th>\n",
       "      <td>100</td>\n",
       "      <td>11 11 11</td>\n",
       "      <td>Ni.pbesol-spn-rrkjus_psl.1.0.0</td>\n",
       "      <td>-339.401119</td>\n",
       "    </tr>\n",
       "    <tr>\n",
       "      <th>5553</th>\n",
       "      <td>100</td>\n",
       "      <td>11 11 11</td>\n",
       "      <td>Ni.pbe-spn-kjpaw_psl.1.0.0</td>\n",
       "      <td>-429.158339</td>\n",
       "    </tr>\n",
       "    <tr>\n",
       "      <th>5554</th>\n",
       "      <td>100</td>\n",
       "      <td>11 11 11</td>\n",
       "      <td>Ni.pbe-spn-rrkjus_psl.1.0.0</td>\n",
       "      <td>-339.606438</td>\n",
       "    </tr>\n",
       "  </tbody>\n",
       "</table>\n",
       "<p>792 rows × 4 columns</p>\n",
       "</div>"
      ],
      "text/plain": [
       "      Ecut   KPoints                 Pseudopotencial  Total Energy (Ry)\n",
       "4763    15     1 1 1   Ni.pbesol-spn-kjpaw_psl.1.0.0        -351.476648\n",
       "4764    15     1 1 1  Ni.pbesol-spn-rrkjus_psl.1.0.0        -266.675448\n",
       "4765    15     1 1 1      Ni.pbe-spn-kjpaw_psl.1.0.0        -353.742357\n",
       "4766    15     1 1 1     Ni.pbe-spn-rrkjus_psl.1.0.0        -266.530727\n",
       "4767    15     2 2 2   Ni.pbesol-spn-kjpaw_psl.1.0.0        -354.727505\n",
       "...    ...       ...                             ...                ...\n",
       "5550   100  10 10 10     Ni.pbe-spn-rrkjus_psl.1.0.0        -339.605964\n",
       "5551   100  11 11 11   Ni.pbesol-spn-kjpaw_psl.1.0.0        -426.577757\n",
       "5552   100  11 11 11  Ni.pbesol-spn-rrkjus_psl.1.0.0        -339.401119\n",
       "5553   100  11 11 11      Ni.pbe-spn-kjpaw_psl.1.0.0        -429.158339\n",
       "5554   100  11 11 11     Ni.pbe-spn-rrkjus_psl.1.0.0        -339.606438\n",
       "\n",
       "[792 rows x 4 columns]"
      ]
     },
     "execution_count": 4,
     "metadata": {},
     "output_type": "execute_result"
    }
   ],
   "source": [
    "cleanDF"
   ]
  },
  {
   "cell_type": "markdown",
   "metadata": {},
   "source": [
    "No se logró un buen desempeño de la red, lo limitaremos a un pseudopotencial"
   ]
  },
  {
   "cell_type": "code",
   "execution_count": 5,
   "metadata": {},
   "outputs": [],
   "source": [
    "# Supongamos que cleanDF es tu DataFrame original\n",
    "unique_pseudopotentials = cleanDF['Pseudopotencial'].unique()  # Encuentra todos los valores únicos en la columna 'pseudopotencial'\n",
    "\n",
    "dataframes = {}  # Un diccionario para almacenar cada DataFrame\n",
    "\n",
    "for pseudopotential in unique_pseudopotentials:\n",
    "    # Crear un nuevo DataFrame filtrado para cada pseudopotencial\n",
    "    df_temp = cleanDF[cleanDF['Pseudopotencial'] == pseudopotential]\n",
    "    \n",
    "    # Eliminar la columna 'pseudopotencial'\n",
    "    df_temp = df_temp.drop(columns='Pseudopotencial')\n",
    "    \n",
    "    # Guardar el DataFrame en el diccionario\n",
    "    dataframes[pseudopotential] = df_temp"
   ]
  },
  {
   "cell_type": "markdown",
   "metadata": {},
   "source": [
    "tenemos un diccionario con todos los dataframes SIN pseudopotencial "
   ]
  },
  {
   "cell_type": "code",
   "execution_count": 100,
   "metadata": {},
   "outputs": [],
   "source": [
    "# Selecting the numerical and categorical columns\n",
    "numerical_cols = ['Ecut']  # the numerical column\n",
    "categorical_cols = dataframes['Ni.pbe-spn-kjpaw_psl.1.0.0'].columns.drop(['Ecut', 'Total Energy (Ry)'])  # all   other columns are categorical"
   ]
  },
  {
   "cell_type": "code",
   "execution_count": 101,
   "metadata": {},
   "outputs": [],
   "source": [
    "# Creating transformers for the numerical and categorical data\n",
    "numerical_transformer = StandardScaler()\n",
    "categorical_transformer = OneHotEncoder(handle_unknown='ignore')"
   ]
  },
  {
   "cell_type": "code",
   "execution_count": 102,
   "metadata": {},
   "outputs": [],
   "source": [
    "# Creating a preprocessor with ColumnTransformer\n",
    "preprocessor = ColumnTransformer(\n",
    "    transformers=[\n",
    "        ('num', numerical_transformer, numerical_cols),\n",
    "        ('cat', categorical_transformer, categorical_cols)\n",
    "    ])"
   ]
  },
  {
   "cell_type": "code",
   "execution_count": 103,
   "metadata": {},
   "outputs": [],
   "source": [
    "# Re-setup preprocessing and transformation\n",
    "# Assume preprocessor is already defined and includes scaling for 'ecut' and one-hot encoding for categorical columns\n",
    "X = dataframes['Ni.pbe-spn-kjpaw_psl.1.0.0'].drop('Total Energy (Ry)', axis=1)\n",
    "y = dataframes['Ni.pbe-spn-kjpaw_psl.1.0.0']['Total Energy (Ry)']"
   ]
  },
  {
   "cell_type": "code",
   "execution_count": 104,
   "metadata": {},
   "outputs": [],
   "source": [
    "X_transformed = preprocessor.fit_transform(X)  # Re-fit the preprocessor"
   ]
  },
  {
   "cell_type": "code",
   "execution_count": 105,
   "metadata": {},
   "outputs": [],
   "source": [
    "# Create a preprocessing and training pipeline\n",
    "pipeline = Pipeline(steps=[('preprocessor', preprocessor)])"
   ]
  },
  {
   "cell_type": "code",
   "execution_count": 106,
   "metadata": {},
   "outputs": [],
   "source": [
    "X_train, X_test, y_train, y_test = train_test_split(X_transformed, y, test_size=0.2, random_state=42)"
   ]
  },
  {
   "cell_type": "code",
   "execution_count": 107,
   "metadata": {},
   "outputs": [],
   "source": [
    "# Convert data types to float32 for neural network processing\n",
    "X_train = X_train.astype('float32')\n",
    "X_test = X_test.astype('float32')\n",
    "y_train = y_train.astype('float32')\n",
    "y_test = y_test.astype('float32')"
   ]
  },
  {
   "cell_type": "code",
   "execution_count": 108,
   "metadata": {},
   "outputs": [
    {
     "name": "stdout",
     "output_type": "stream",
     "text": [
      "Columnas de input: 12\n"
     ]
    }
   ],
   "source": [
    "# Model configuration\n",
    "input_dim = X_train.shape[1]  # Number of features\n",
    "print(f'Columnas de input: {input_dim}')"
   ]
  },
  {
   "cell_type": "code",
   "execution_count": 109,
   "metadata": {},
   "outputs": [
    {
     "name": "stderr",
     "output_type": "stream",
     "text": [
      "c:\\Users\\USER\\AppData\\Local\\Programs\\Python\\Python312\\Lib\\site-packages\\keras\\src\\layers\\core\\dense.py:86: UserWarning: Do not pass an `input_shape`/`input_dim` argument to a layer. When using Sequential models, prefer using an `Input(shape)` object as the first layer in the model instead.\n",
      "  super().__init__(activity_regularizer=activity_regularizer, **kwargs)\n"
     ]
    }
   ],
   "source": [
    "model = Sequential([\n",
    "    Dense(128, activation='relu', input_shape=(input_dim,)),  # First hidden layer\n",
    "    Dense(64, activation='relu'), \n",
    "    Dense(1, activation='linear')  # Output layer\n",
    "])"
   ]
  },
  {
   "cell_type": "code",
   "execution_count": 110,
   "metadata": {},
   "outputs": [],
   "source": [
    "# Compiling the model\n",
    "model.compile(optimizer='adam', loss='mean_squared_error')"
   ]
  },
  {
   "cell_type": "code",
   "execution_count": 111,
   "metadata": {},
   "outputs": [],
   "source": [
    "# Training the model\n",
    "history = model.fit(X_train, y_train, epochs=100, batch_size=16, validation_split=0.5, verbose=0)"
   ]
  },
  {
   "cell_type": "code",
   "execution_count": 115,
   "metadata": {},
   "outputs": [],
   "source": [
    "# Assuming history is returned by model.fit\n",
    "loss = history.history['loss']\n",
    "val_loss = history.history['val_loss']\n",
    "epochs = range(1, len(loss) + 1)"
   ]
  },
  {
   "cell_type": "code",
   "execution_count": 116,
   "metadata": {},
   "outputs": [
    {
     "data": {
      "image/png": "[encoded data removed]",
      "text/plain": [
       "<Figure size 640x480 with 1 Axes>"
      ]
     },
     "metadata": {},
     "output_type": "display_data"
    }
   ],
   "source": [
    "# Plotting the training and validation loss\n",
    "plt.figure()\n",
    "plt.plot(epochs, loss, 'bo', label='Training loss')  # 'bo' gives us blue dot\n",
    "plt.plot(epochs, val_loss, 'b', label='Validation loss')  # 'b' gives us a solid blue line\n",
    "plt.title('Training and Validation Loss')\n",
    "plt.xlabel('Epochs')\n",
    "plt.ylabel('Loss')\n",
    "plt.ylim(0, 20)\n",
    "plt.legend()\n",
    "plt.show()"
   ]
  },
  {
   "cell_type": "code",
   "execution_count": 114,
   "metadata": {},
   "outputs": [
    {
     "name": "stdout",
     "output_type": "stream",
     "text": [
      "\u001b[1m2/2\u001b[0m \u001b[32m━━━━━━━━━━━━━━━━━━━━\u001b[0m\u001b[37m\u001b[0m \u001b[1m0s\u001b[0m 81ms/step\n",
      "R-squared (R2): -3.14\n",
      "Mean Squared Error (MSE): 1116.29\n",
      "Mean Absolute Error (MAE): 29.203709\n",
      "Root Mean Squared Error (RMSE): 33.41\n"
     ]
    }
   ],
   "source": [
    "# Make predictions on the test set\n",
    "y_pred = model.predict(X_test)\n",
    "\n",
    "# Calculate the metrics\n",
    "r2 = r2_score(y_test, y_pred)\n",
    "mse = mean_squared_error(y_test, y_pred)\n",
    "mae = mean_absolute_error(y_test, y_pred)\n",
    "rmse = np.sqrt(mse)  # Root Mean Squared Error\n",
    "\n",
    "# Print the metrics\n",
    "print(f'R-squared (R2): {r2:.2f}')\n",
    "print(f'Mean Squared Error (MSE): {mse:.2f}')\n",
    "print(f'Mean Absolute Error (MAE): {mae:.6f}')\n",
    "print(f'Root Mean Squared Error (RMSE): {rmse:.2f}')"
   ]
  },
  {
   "cell_type": "code",
   "execution_count": null,
   "metadata": {},
   "outputs": [],
   "source": []
  }
 ],
 "metadata": {
  "kernelspec": {
   "display_name": "Python 3",
   "language": "python",
   "name": "python3"
  },
  "language_info": {
   "codemirror_mode": {
    "name": "ipython",
    "version": 3
   },
   "file_extension": ".py",
   "mimetype": "text/x-python",
   "name": "python",
   "nbconvert_exporter": "python",
   "pygments_lexer": "ipython3",
   "version": "3.12.1"
  }
 },
 "nbformat": 4,
 "nbformat_minor": 2
}
