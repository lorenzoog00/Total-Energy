{
 "cells": [
  {
   "cell_type": "code",
   "execution_count": 4,
   "metadata": {},
   "outputs": [],
   "source": [
    "import os\n",
    "import itertools\n",
    "import csv"
   ]
  },
  {
   "cell_type": "code",
   "execution_count": 5,
   "metadata": {},
   "outputs": [],
   "source": [
    "# Crear directorio SiData si no existe\n",
    "directorio = \".in\"\n",
    "os.makedirs(directorio, exist_ok=True)"
   ]
  },
  {
   "cell_type": "markdown",
   "metadata": {},
   "source": [
    "# Definiendo parámetros de entrada"
   ]
  },
  {
   "cell_type": "code",
   "execution_count": 6,
   "metadata": {},
   "outputs": [],
   "source": [
    "# Parámetros para iterar\n",
    "elemento = 'Au'  # Puedes cambiar este elemento manualmente\n",
    "ecuts = range(10, 101,5)  # Energía de corte de 10 a 100 Ry de 10 en 10\n",
    "kpuntos = [(x, x, x) for x in range(1, 12)]  # k points de (1,1,1) a (11,11,11) de 2 en 2\n",
    "pseudopotenciales = ['Au.pbe-n-kjpaw_psl.1.0.0', 'Au.pbe-n-rrkjus_psl.1.0.0', 'Au.pbesol-n-kjpaw_psl.1.0.0', 'Au.pbesol-n-rrkjus_psl.1.0.0']     "
   ]
  },
  {
   "cell_type": "code",
   "execution_count": 7,
   "metadata": {},
   "outputs": [],
   "source": [
    "plantilla = \"\"\"\n",
    "&control\n",
    "  calculation='scf',\n",
    "  prefix='{elemento}',\n",
    "  tstress = .true.,\n",
    "  tprnfor = .true.,\n",
    "  outdir='./out_{elemento}',\n",
    "  pseudo_dir='/home/lorenzo/pseudos/Au',\n",
    "/\n",
    "&system\n",
    "  ibrav=2,\n",
    "  celldm(1)= 7.71,\n",
    "  nat=1, \n",
    "  ntyp=1,\n",
    "  ecutwfc={ecut},\n",
    "  occupations='smearing', \n",
    "  smearing='gaussian',  \n",
    "  degauss=0.01,    \n",
    "/\n",
    "&electrons\n",
    "  diagonalization='david',\n",
    "  conv_thr=1.0d-8,\n",
    "/\n",
    "ATOMIC_SPECIES\n",
    "  {elemento}  196.966  {pseudopotencial}.UPF\n",
    "ATOMIC_POSITIONS {{angstrom}}\n",
    "  {elemento} 0.00 0.00 0.00 \n",
    "K_POINTS {{automatic}}\n",
    "  {kx} {ky} {kz} 0 0 0\n",
    "\"\"\""
   ]
  },
  {
   "cell_type": "code",
   "execution_count": 8,
   "metadata": {},
   "outputs": [],
   "source": [
    "# Nombre del archivo CSV actualizado para generarlo en el mismo bucle\n",
    "nombre_csv = os.path.join(\"AuData.csv\")"
   ]
  },
  {
   "cell_type": "code",
   "execution_count": 9,
   "metadata": {},
   "outputs": [],
   "source": [
    "# Crear y llenar el archivo CSV con la información de los archivos generados\n",
    "with open(nombre_csv, mode='w', newline='') as csv_file:\n",
    "    fieldnames = ['Archivo', 'Elemento', 'Ecut', 'KPoints', 'Pseudopotencial']\n",
    "    writer = csv.DictWriter(csv_file, fieldnames=fieldnames)\n",
    "    writer.writeheader()\n",
    "    \n",
    "    # Generar archivos .in y registrarlos en el CSV\n",
    "    for ecut, (kx, ky, kz), pseudopotencial in itertools.product(ecuts, kpuntos, pseudopotenciales):\n",
    "        nombre_archivo = f\"{elemento}_ecut{ecut}_k{kx}{ky}{kz}_{pseudopotencial}.in\"\n",
    "        path_completo = os.path.join(directorio, nombre_archivo)\n",
    "        with open(path_completo, 'w') as archivo:\n",
    "            contenido = plantilla.format(\n",
    "                elemento=elemento,\n",
    "                ecut=ecut,\n",
    "                kx=kx, ky=ky, kz=kz,\n",
    "                pseudopotencial=pseudopotencial\n",
    "            )\n",
    "            archivo.write(contenido)\n",
    "        \n",
    "        # Añadir información al CSV\n",
    "        writer.writerow({\n",
    "            'Archivo': nombre_archivo,\n",
    "            'Elemento': elemento,\n",
    "            'Ecut': ecut,\n",
    "            'KPoints': f\"{kx} {ky} {kz}\",\n",
    "            'Pseudopotencial': pseudopotencial\n",
    "        })"
   ]
  }
 ],
 "metadata": {
  "kernelspec": {
   "display_name": "Python 3",
   "language": "python",
   "name": "python3"
  },
  "language_info": {
   "codemirror_mode": {
    "name": "ipython",
    "version": 3
   },
   "file_extension": ".py",
   "mimetype": "text/x-python",
   "name": "python",
   "nbconvert_exporter": "python",
   "pygments_lexer": "ipython3",
   "version": "3.12.1"
  }
 },
 "nbformat": 4,
 "nbformat_minor": 2
}
