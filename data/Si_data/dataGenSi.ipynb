{
 "cells": [
  {
   "cell_type": "code",
   "execution_count": 25,
   "metadata": {},
   "outputs": [],
   "source": [
    "import os\n",
    "import itertools\n",
    "import csv"
   ]
  },
  {
   "cell_type": "code",
   "execution_count": 26,
   "metadata": {},
   "outputs": [],
   "source": [
    "# Crear directorio SiData si no existe\n",
    "directorio = \".in\"\n",
    "os.makedirs(directorio, exist_ok=True)"
   ]
  },
  {
   "cell_type": "markdown",
   "metadata": {},
   "source": [
    "# Definiendo parámetros de entrada"
   ]
  },
  {
   "cell_type": "code",
   "execution_count": 27,
   "metadata": {},
   "outputs": [],
   "source": [
    "# Parámetros para iterar\n",
    "elemento = 'Si' \n",
    "ecuts = range(10, 101,5)  # Energía de corte de 10 a 100 Ry\n",
    "kpuntos = [(x, x, x) for x in range(1, 13)]  # k points de (1,1,1) a (12,12,12)\n",
    "pseudopotenciales = ['Si.bhs', 'Si.pbe-nl-rrkjus_psl.1.0.0', 'Si.rel-pbe-rrkj']     "
   ]
  },
  {
   "cell_type": "markdown",
   "metadata": {},
   "source": [
    "### Parámetros que cambian de elemento a elemento\n",
    "Restringimos a FCC que es ibrav 2, nat = 1, peso , atomic positions en angstrongs"
   ]
  },
  {
   "cell_type": "code",
   "execution_count": 28,
   "metadata": {},
   "outputs": [],
   "source": [
    "plantilla = \"\"\"\n",
    "&control\n",
    "  calculation='scf',\n",
    "  prefix='{elemento}',\n",
    "  tstress = .true.,\n",
    "  tprnfor = .true.,\n",
    "  outdir='./out_{elemento}',\n",
    "  pseudo_dir='/q-w-qe-6.3/pseudo',\n",
    "/\n",
    "&system\n",
    "  ibrav=2,\n",
    "  A = 3.6,\n",
    "  nat=2, \n",
    "  ntyp=1,\n",
    "  ecutwfc={ecut},\n",
    "/\n",
    "&electrons\n",
    "  diagonalization='david',\n",
    "  conv_thr=1.0d-7,\n",
    "/\n",
    "ATOMIC_SPECIES\n",
    "  {elemento}  28.085  {pseudopotencial}.UPF\n",
    "ATOMIC_POSITIONS {{crystal}}\n",
    "  {elemento} 0.00 0.00 0.00 \n",
    "  {elemento} 0.25 0.25 0.25\n",
    "K_POINTS {{automatic}}\n",
    "  {kx} {ky} {kz} 0 0 0\n",
    "\"\"\""
   ]
  },
  {
   "cell_type": "code",
   "execution_count": 29,
   "metadata": {},
   "outputs": [],
   "source": [
    "# Nombre del archivo CSV actualizado para generarlo en el mismo bucle\n",
    "nombre_csv = os.path.join(directorio, \"SiData.csv\")"
   ]
  },
  {
   "cell_type": "code",
   "execution_count": 30,
   "metadata": {},
   "outputs": [],
   "source": [
    "# Abrir el archivo CSV para escribir\n",
    "with open(nombre_csv, mode='w', newline='') as csv_file:\n",
    "    fieldnames = ['Archivo', 'Elemento', 'Ecut', 'KPoints', 'Pseudopotencial']\n",
    "    writer = csv.DictWriter(csv_file, fieldnames=fieldnames)\n",
    "    writer.writeheader()\n",
    "    \n",
    "    # Generar archivos .in y registrarlos en el CSV\n",
    "    for ecut, kpoints, pseudopotencial in itertools.product(ecuts, kpuntos, pseudopotenciales):\n",
    "        kx, ky, kz = kpoints\n",
    "        nombre_archivo = f\"{elemento}_ecut{ecut}_k{kx}{ky}{kz}_{pseudopotencial}.in\"\n",
    "        path_completo = os.path.join(directorio, nombre_archivo)\n",
    "        \n",
    "        with open(path_completo, 'w') as archivo:\n",
    "            contenido = plantilla.format(\n",
    "                elemento=elemento,\n",
    "                ecut=ecut,\n",
    "                kx=kx, ky=ky, kz=kz,\n",
    "                pseudopotencial=pseudopotencial,\n",
    "                pos=pos\n",
    "            )\n",
    "            archivo.write(contenido)\n",
    "        \n",
    "        # Registrar en el CSV\n",
    "        writer.writerow({\n",
    "            'Archivo': nombre_archivo,\n",
    "            'Elemento': elemento,\n",
    "            'Ecut': ecut,\n",
    "            'KPoints': f\"{kx} {ky} {kz}\",\n",
    "            'Pseudopotencial': pseudopotencial\n",
    "        })"
   ]
  }
 ],
 "metadata": {
  "kernelspec": {
   "display_name": "Python 3",
   "language": "python",
   "name": "python3"
  },
  "language_info": {
   "codemirror_mode": {
    "name": "ipython",
    "version": 3
   },
   "file_extension": ".py",
   "mimetype": "text/x-python",
   "name": "python",
   "nbconvert_exporter": "python",
   "pygments_lexer": "ipython3",
   "version": "3.12.1"
  }
 },
 "nbformat": 4,
 "nbformat_minor": 2
}
