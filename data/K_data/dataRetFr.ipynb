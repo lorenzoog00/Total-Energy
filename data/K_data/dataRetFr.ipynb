{
 "cells": [
  {
   "cell_type": "code",
   "execution_count": 1,
   "metadata": {},
   "outputs": [],
   "source": [
    "import pandas as pd\n",
    "import os\n",
    "import re"
   ]
  },
  {
   "cell_type": "code",
   "execution_count": 2,
   "metadata": {},
   "outputs": [],
   "source": [
    "# Definir la ruta al directorio donde están los archivos .out y la ruta al archivo CSV\n",
    "output_dir = \"K.out\"  # Cambia esto por la ruta correcta\n",
    "csv_file_path = \"KData.csv\"  # Cambia esto por la ruta correcta al archivo CSV"
   ]
  },
  {
   "cell_type": "code",
   "execution_count": 3,
   "metadata": {},
   "outputs": [],
   "source": [
    "# Cargar el archivo CSV existente\n",
    "df = pd.read_csv(csv_file_path)"
   ]
  },
  {
   "cell_type": "code",
   "execution_count": 4,
   "metadata": {},
   "outputs": [],
   "source": [
    "# Asegurarse de que hay una columna para la energía total, si no, agregarla\n",
    "if 'Total Energy (Ry)' not in df.columns:\n",
    "    df['Total Energy (Ry)'] = None"
   ]
  },
  {
   "cell_type": "code",
   "execution_count": 5,
   "metadata": {},
   "outputs": [],
   "source": [
    "# Función para extraer la energía total de un archivo .out\n",
    "def extract_total_energy(file_path):\n",
    "    try:\n",
    "        with open(file_path, 'r') as file:\n",
    "            contents = file.read()\n",
    "        # Buscar la línea con la energía total usando expresiones regulares\n",
    "        match = re.search(r'total energy\\s+=\\s+([-0-9.]+)\\s+Ry', contents)\n",
    "        if match:\n",
    "            return float(match.group(1))\n",
    "        else:\n",
    "            return None\n",
    "    except Exception as e:\n",
    "        print(f\"Error reading {file_path}: {e}\")\n",
    "        return None"
   ]
  },
  {
   "cell_type": "code",
   "execution_count": 6,
   "metadata": {},
   "outputs": [
    {
     "name": "stdout",
     "output_type": "stream",
     "text": [
      "Archivo CSV actualizado con éxito.\n"
     ]
    }
   ],
   "source": [
    "# Iterar sobre las filas del DataFrame\n",
    "for index, row in df.iterrows():\n",
    "    # Construir el nombre del archivo .out correspondiente al .in en el CSV\n",
    "    input_name = row['Archivo'] \n",
    "    output_name = input_name.replace('.in', '.out')\n",
    "    output_path = os.path.join(output_dir, output_name)\n",
    "    \n",
    "    # Extraer la energía total del archivo .out correspondiente\n",
    "    total_energy = extract_total_energy(output_path)\n",
    "    \n",
    "    # Actualizar el DataFrame con la energía total\n",
    "    if total_energy is not None:\n",
    "        df.at[index, 'Total Energy (Ry)'] = total_energy\n",
    "\n",
    "# Guardar el DataFrame actualizado de nuevo al archivo CSV\n",
    "df.to_csv(csv_file_path, index=False)\n",
    "print(\"Archivo CSV actualizado con éxito.\")"
   ]
  },
  {
   "cell_type": "code",
   "execution_count": null,
   "metadata": {},
   "outputs": [],
   "source": []
  }
 ],
 "metadata": {
  "kernelspec": {
   "display_name": "Python 3",
   "language": "python",
   "name": "python3"
  },
  "language_info": {
   "codemirror_mode": {
    "name": "ipython",
    "version": 3
   },
   "file_extension": ".py",
   "mimetype": "text/x-python",
   "name": "python",
   "nbconvert_exporter": "python",
   "pygments_lexer": "ipython3",
   "version": "3.12.1"
  }
 },
 "nbformat": 4,
 "nbformat_minor": 2
}
